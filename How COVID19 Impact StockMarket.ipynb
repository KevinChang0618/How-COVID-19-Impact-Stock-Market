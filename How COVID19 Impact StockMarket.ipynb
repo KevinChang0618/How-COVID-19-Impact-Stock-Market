{
 "cells": [
  {
   "cell_type": "markdown",
   "metadata": {},
   "source": [
    "# How COVID-19 Impact US Stock Market\n"
   ]
  },
  {
   "cell_type": "markdown",
   "metadata": {},
   "source": [
    "## Programming Language: R"
   ]
  },
  {
   "cell_type": "markdown",
   "metadata": {},
   "source": [
    "## 1. Check data follow OLS assumption and fit OLS model"
   ]
  },
  {
   "cell_type": "markdown",
   "metadata": {},
   "source": [
    "## Independent & response variables distribution"
   ]
  },
  {
   "cell_type": "markdown",
   "metadata": {},
   "source": [
    "- <b>Transform data or not</b>  \n",
    "We can see our independent variables (daily cases, daily deaths, daily vaccinations, cumulative cases, cumulative deaths) are right skewed, but our data observations are large enough (bigger than 50+ data points) so we don't need to transform them to fit OLS. On the other hand, our response variable (close) almost has bell-shape so we don't need to transform either."
   ]
  },
  {
   "cell_type": "code",
   "execution_count": 4,
   "metadata": {
    "scrolled": true
   },
   "outputs": [
    {
     "data": {
      "image/png": "[encoded data removed]",
      "text/plain": [
       "Plot with title \"Histogram of na$Close\""
      ]
     },
     "metadata": {
      "image/png": {
       "height": 420,
       "width": 420
      }
     },
     "output_type": "display_data"
    }
   ],
   "source": [
    "na <- read.csv(\"NASDAQ2020_2021.csv\")  \n",
    "\n",
    "par(mfrow = c(2,3))\n",
    "hist(na$Daily_cases)\n",
    "hist(na$Daily_deaths)\n",
    "hist(na$Daily_vaccinations)\n",
    "hist(na$Cumulative_cases)\n",
    "hist(na$Cumulative_deaths)\n",
    "hist(na$Close)"
   ]
  },
  {
   "cell_type": "markdown",
   "metadata": {},
   "source": [
    "## Check VIF (X variables are independent)"
   ]
  },
  {
   "cell_type": "markdown",
   "metadata": {},
   "source": [
    "- Use 'vif()' to check independent variables having correlation or not. With multicollinearity, we can remove them from our model directly.  \n",
    "- VIF >= 10 is too high. We can expect Daily_vaccinations(14.6), Cumulative_cases(62.6), and Cumulative_deaths(26.8) will be remove from model if we don't remove manually. (We will use 'stepwise' later.)"
   ]
  },
  {
   "cell_type": "code",
   "execution_count": 12,
   "metadata": {},
   "outputs": [
    {
     "data": {
      "text/html": [
       "<style>\n",
       ".dl-inline {width: auto; margin:0; padding: 0}\n",
       ".dl-inline>dt, .dl-inline>dd {float: none; width: auto; display: inline-block}\n",
       ".dl-inline>dt::after {content: \":\\0020\"; padding-right: .5ex}\n",
       ".dl-inline>dt:not(:first-of-type) {padding-left: .5ex}\n",
       "</style><dl class=dl-inline><dt>Daily_cases</dt><dd>6.8222730090075</dd><dt>Daily_deaths</dt><dd>1.92907358180023</dd><dt>Daily_vaccinations</dt><dd>14.6468208883935</dd><dt>Cumulative_cases</dt><dd>62.6869680547376</dd><dt>Cumulative_deaths</dt><dd>26.8201319145419</dd></dl>\n"
      ],
      "text/latex": [
       "\\begin{description*}\n",
       "\\item[Daily\\textbackslash{}\\_cases] 6.8222730090075\n",
       "\\item[Daily\\textbackslash{}\\_deaths] 1.92907358180023\n",
       "\\item[Daily\\textbackslash{}\\_vaccinations] 14.6468208883935\n",
       "\\item[Cumulative\\textbackslash{}\\_cases] 62.6869680547376\n",
       "\\item[Cumulative\\textbackslash{}\\_deaths] 26.8201319145419\n",
       "\\end{description*}\n"
      ],
      "text/markdown": [
       "Daily_cases\n",
       ":   6.8222730090075Daily_deaths\n",
       ":   1.92907358180023Daily_vaccinations\n",
       ":   14.6468208883935Cumulative_cases\n",
       ":   62.6869680547376Cumulative_deaths\n",
       ":   26.8201319145419\n",
       "\n"
      ],
      "text/plain": [
       "       Daily_cases       Daily_deaths Daily_vaccinations   Cumulative_cases \n",
       "          6.822273           1.929074          14.646821          62.686968 \n",
       " Cumulative_deaths \n",
       "         26.820132 "
      ]
     },
     "metadata": {},
     "output_type": "display_data"
    }
   ],
   "source": [
    "library(car)\n",
    "\n",
    "reg <- lm(Close~ Daily_cases +Daily_deaths +Daily_vaccinations +Cumulative_cases + Cumulative_deaths, data = na)\n",
    "vif(reg)"
   ]
  },
  {
   "cell_type": "markdown",
   "metadata": {},
   "source": [
    "## Check QQ plot (Errors (residuals) are normally distributed)"
   ]
  },
  {
   "cell_type": "markdown",
   "metadata": {},
   "source": [
    "- In QQ plot, we can see our data almost fit with the line but only little deviance in front part. Therefore, we can said that our data have normal distribution of residuals so we don't need to transform response variable to fit OLS."
   ]
  },
  {
   "cell_type": "code",
   "execution_count": 4,
   "metadata": {},
   "outputs": [
    {
     "data": {
      "image/png": "[encoded data removed]",
      "text/plain": [
       "Plot with title \"\""
      ]
     },
     "metadata": {},
     "output_type": "display_data"
    }
   ],
   "source": [
    "#inspect Normality\n",
    "#summary(reg)\n",
    "plot(reg, which = 2)"
   ]
  },
  {
   "cell_type": "markdown",
   "metadata": {},
   "source": [
    "## Check Heteroskedasticity (Errors (residuals) variance is constant)"
   ]
  },
  {
   "cell_type": "markdown",
   "metadata": {},
   "source": [
    "- Use <b>Breusch-Pagan test</b> to check the error variance is constant or not. If not, use <b>Weight Least Squares(WLS)</b> to fix it. If p-value of Breusch-Pagan test is siginificant (< 0.05), we can reject the null hypothesis (H0: There is no heteroskedasticity problem, which is homoscedastic).  \n",
    "- We found the p-value is really low (< 2.2e-16) and the residuals plot also easy to tell uneven residuals."
   ]
  },
  {
   "cell_type": "code",
   "execution_count": 15,
   "metadata": {},
   "outputs": [
    {
     "name": "stderr",
     "output_type": "stream",
     "text": [
      "Loading required package: zoo\n",
      "\n",
      "\n",
      "Attaching package: 'zoo'\n",
      "\n",
      "\n",
      "The following objects are masked from 'package:base':\n",
      "\n",
      "    as.Date, as.Date.numeric\n",
      "\n",
      "\n"
     ]
    },
    {
     "data": {
      "text/plain": [
       "\n",
       "\tstudentized Breusch-Pagan test\n",
       "\n",
       "data:  reg\n",
       "BP = 94.367, df = 5, p-value < 2.2e-16\n"
      ]
     },
     "metadata": {},
     "output_type": "display_data"
    },
    {
     "data": {
      "image/png": "[encoded data removed]",
      "text/plain": [
       "Plot with title \"\""
      ]
     },
     "metadata": {
      "image/png": {
       "height": 420,
       "width": 420
      }
     },
     "output_type": "display_data"
    }
   ],
   "source": [
    "# inspect heteroskedasticity \n",
    "library(lmtest)\n",
    "\n",
    "plot(reg, which = 1)\n",
    "bptest(reg,data = na)"
   ]
  },
  {
   "cell_type": "markdown",
   "metadata": {},
   "source": [
    "## Weight Least Squares (WLS)"
   ]
  },
  {
   "cell_type": "markdown",
   "metadata": {},
   "source": [
    "- Use WLS to fix heteroskedasticity. Then check the residuals plot again. There is no heteroskedasticity issue."
   ]
  },
  {
   "cell_type": "code",
   "execution_count": 20,
   "metadata": {},
   "outputs": [
    {
     "data": {
      "image/png": "[encoded data removed]",
      "text/plain": [
       "plot without title"
      ]
     },
     "metadata": {
      "image/png": {
       "height": 420,
       "width": 420
      }
     },
     "output_type": "display_data"
    }
   ],
   "source": [
    "# fit WLS model\n",
    "abs.res<-abs(residuals(reg))\n",
    "fitted.reg<- fitted(reg)\n",
    "lm.abs.res<-lm(abs.res~fitted.reg)\n",
    "plot(fitted.reg,abs.res)\n",
    "abline(lm.abs.res,col=\"red\")\n",
    "\n",
    "wts <- 1/fitted(lm.abs.res)^2\n",
    "wls.reg<-lm(Close~ Daily_cases +Daily_deaths +Daily_vaccinations +Cumulative_cases + Cumulative_deaths, data=na, weights = wts)\n",
    "#summary(wls.reg)"
   ]
  },
  {
   "cell_type": "markdown",
   "metadata": {},
   "source": [
    "## Check serial problem (Observations are independent)"
   ]
  },
  {
   "cell_type": "markdown",
   "metadata": {},
   "source": [
    "- Use <b>Durbin-Watson test</b> to check if observation is influenced by another. If p-value is siginificant (>0.05), we can reject the null hypothesis (There is no relation among observations). In our case, p-value is very low so we would use <b>lagging</b> to fix serial problem."
   ]
  },
  {
   "cell_type": "code",
   "execution_count": 23,
   "metadata": {},
   "outputs": [
    {
     "data": {
      "text/plain": [
       "\n",
       "\tDurbin-Watson test\n",
       "\n",
       "data:  reg\n",
       "DW = 0.1854, p-value < 2.2e-16\n",
       "alternative hypothesis: true autocorrelation is greater than 0\n"
      ]
     },
     "metadata": {},
     "output_type": "display_data"
    }
   ],
   "source": [
    "dwtest(reg)"
   ]
  },
  {
   "cell_type": "markdown",
   "metadata": {},
   "source": [
    "- After using <b>lagging</b> on our outcome variable (Close), we test our new model again and p-value is bigger than 0.05."
   ]
  },
  {
   "cell_type": "code",
   "execution_count": 17,
   "metadata": {},
   "outputs": [
    {
     "name": "stderr",
     "output_type": "stream",
     "text": [
      "\n",
      "Remember to put na in time order before running.\n",
      "\n",
      "\n",
      "Lagging Close by 1 time units.\n",
      "\n",
      "\n"
     ]
    },
    {
     "data": {
      "text/plain": [
       "\n",
       "\tDurbin-Watson test\n",
       "\n",
       "data:  fit2\n",
       "DW = 2.4408, p-value = 0.9998\n",
       "alternative hypothesis: true autocorrelation is greater than 0\n"
      ]
     },
     "metadata": {},
     "output_type": "display_data"
    }
   ],
   "source": [
    "library(DataCombine)\n",
    "close <- slide(na,Var = \"Close\", NewVar = \"Close.L1\", slideBy = -1)\n",
    "\n",
    "fit2 <- lm(Close~Close.L1+Daily_cases+Cumulative_cases+Daily_deaths+Cumulative_deaths+Daily_vaccinations, data = close)\n",
    "dwtest(fit2)"
   ]
  },
  {
   "cell_type": "markdown",
   "metadata": {},
   "source": [
    "## Variable Selection"
   ]
  },
  {
   "cell_type": "markdown",
   "metadata": {},
   "source": [
    "- We use our WLS and Lagging variable to do variable selection. In this project, we use stepwise function to do so.\n",
    "- Lagging Close, Daily cases, and cumulative deaths are final predictors for our linear model."
   ]
  },
  {
   "cell_type": "code",
   "execution_count": 21,
   "metadata": {},
   "outputs": [
    {
     "name": "stdout",
     "output_type": "stream",
     "text": [
      "Start:  AIC=-299.49\n",
      "Close ~ Close.L1 + Daily_cases + Daily_deaths + Daily_vaccinations + \n",
      "    Cumulative_cases + Cumulative_deaths\n",
      "\n",
      "                     Df Sum of Sq    RSS     AIC   F value  Pr(>F)    \n",
      "- Daily_deaths        1      0.01 115.71 -301.47    0.0180 0.89346    \n",
      "- Cumulative_cases    1      0.06 115.76 -301.34    0.1484 0.70037    \n",
      "- Daily_vaccinations  1      0.18 115.88 -301.01    0.4730 0.49213    \n",
      "<none>                            115.70 -299.49                      \n",
      "- Cumulative_deaths   1      1.59 117.29 -297.21    4.2171 0.04087 *  \n",
      "- Daily_cases         1      1.75 117.45 -296.78    4.6459 0.03191 *  \n",
      "- Close.L1            1    464.97 580.67  205.04 1233.7483 < 2e-16 ***\n",
      "---\n",
      "Signif. codes:  0 '***' 0.001 '**' 0.01 '*' 0.05 '.' 0.1 ' ' 1\n",
      "\n",
      "Step:  AIC=-301.47\n",
      "Close ~ Close.L1 + Daily_cases + Daily_vaccinations + Cumulative_cases + \n",
      "    Cumulative_deaths\n",
      "\n",
      "                     Df Sum of Sq    RSS     AIC   F value  Pr(>F)    \n",
      "- Cumulative_cases    1      0.07 115.78 -303.27    0.1985 0.65624    \n",
      "- Daily_vaccinations  1      0.17 115.88 -303.01    0.4589 0.49863    \n",
      "<none>                            115.71 -301.47                      \n",
      "+ Daily_deaths        1      0.01 115.70 -299.49    0.0180 0.89346    \n",
      "- Cumulative_deaths   1      1.69 117.39 -298.93    4.4861 0.03497 *  \n",
      "- Daily_cases         1      1.84 117.54 -298.53    4.8861 0.02781 *  \n",
      "- Close.L1            1    465.28 580.99  203.22 1238.5138 < 2e-16 ***\n",
      "---\n",
      "Signif. codes:  0 '***' 0.001 '**' 0.01 '*' 0.05 '.' 0.1 ' ' 1\n",
      "\n",
      "Step:  AIC=-303.27\n",
      "Close ~ Close.L1 + Daily_cases + Daily_vaccinations + Cumulative_deaths\n",
      "\n",
      "                     Df Sum of Sq    RSS     AIC   F value  Pr(>F)    \n",
      "- Daily_vaccinations  1      0.43 116.21 -304.11    1.1452 0.28539    \n",
      "<none>                            115.78 -303.27                      \n",
      "+ Cumulative_cases    1      0.07 115.71 -301.47    0.1985 0.65624    \n",
      "+ Daily_deaths        1      0.03 115.76 -301.34    0.0677 0.79494    \n",
      "- Cumulative_deaths   1      2.08 117.87 -299.67    5.5631 0.01896 *  \n",
      "- Daily_cases         1      2.19 117.97 -299.40    5.8344 0.01630 *  \n",
      "- Close.L1            1    486.78 602.56  212.66 1299.1123 < 2e-16 ***\n",
      "---\n",
      "Signif. codes:  0 '***' 0.001 '**' 0.01 '*' 0.05 '.' 0.1 ' ' 1\n",
      "\n",
      "Step:  AIC=-304.11\n",
      "Close ~ Close.L1 + Daily_cases + Cumulative_deaths\n",
      "\n",
      "                     Df Sum of Sq    RSS     AIC   F value    Pr(>F)    \n",
      "<none>                            116.21 -304.11                        \n",
      "+ Daily_vaccinations  1      0.43 115.78 -303.27    1.1452 0.2853884    \n",
      "+ Cumulative_cases    1      0.33 115.88 -303.01    0.8834 0.3480172    \n",
      "+ Daily_deaths        1      0.04 116.18 -302.20    0.0931 0.7604480    \n",
      "- Cumulative_deaths   1      3.45 119.66 -296.92    9.2040 0.0026192 ** \n",
      "- Daily_cases         1      4.82 121.03 -293.36   12.8518 0.0003915 ***\n",
      "- Close.L1            1    734.07 850.28  318.80 1958.1682 < 2.2e-16 ***\n",
      "---\n",
      "Signif. codes:  0 '***' 0.001 '**' 0.01 '*' 0.05 '.' 0.1 ' ' 1\n"
     ]
    },
    {
     "data": {
      "text/plain": [
       "\n",
       "Call:\n",
       "lm(formula = Close ~ Close.L1 + Daily_cases + Cumulative_deaths, \n",
       "    data = close, weights = wts)\n",
       "\n",
       "Weighted Residuals:\n",
       "     Min       1Q   Median       3Q      Max \n",
       "-3.14747 -0.24242  0.05943  0.29235  2.35460 \n",
       "\n",
       "Coefficients:\n",
       "                   Estimate Std. Error t value Pr(>|t|)    \n",
       "(Intercept)       7.102e+02  1.881e+02   3.777 0.000190 ***\n",
       "Close.L1          9.220e-01  2.083e-02  44.251  < 2e-16 ***\n",
       "Daily_cases       7.321e-04  2.042e-04   3.585 0.000392 ***\n",
       "Cumulative_deaths 5.557e-04  1.832e-04   3.034 0.002619 ** \n",
       "---\n",
       "Signif. codes:  0 '***' 0.001 '**' 0.01 '*' 0.05 '.' 0.1 ' ' 1\n",
       "\n",
       "Residual standard error: 0.6123 on 310 degrees of freedom\n",
       "  (1 observation deleted due to missingness)\n",
       "Multiple R-squared:  0.9862,\tAdjusted R-squared:  0.9861 \n",
       "F-statistic:  7392 on 3 and 310 DF,  p-value: < 2.2e-16\n"
      ]
     },
     "metadata": {},
     "output_type": "display_data"
    }
   ],
   "source": [
    "# variable selection\n",
    "wls.reg2 <-lm(Close~ Close.L1+Daily_cases +Daily_deaths +Daily_vaccinations +Cumulative_cases + Cumulative_deaths, \n",
    "              data=close, weights = wts)\n",
    "\n",
    "reduced = lm(Close~1,data = close)\n",
    "reg.step= step(wls.reg2, scope = list(lower = reduced, upper = wls.reg2), direction=\"both\", test=\"F\")\n",
    "summary(reg.step)"
   ]
  },
  {
   "cell_type": "code",
   "execution_count": 25,
   "metadata": {},
   "outputs": [
    {
     "data": {
      "text/plain": [
       "\n",
       "Call:\n",
       "lm(formula = Close ~ Close.L1 + Daily_cases + Cumulative_deaths, \n",
       "    data = close, weights = wts)\n",
       "\n",
       "Weighted Residuals:\n",
       "     Min       1Q   Median       3Q      Max \n",
       "-3.14727 -0.24496  0.06009  0.29320  2.35490 \n",
       "\n",
       "Coefficients:\n",
       "                   Estimate Std. Error t value Pr(>|t|)    \n",
       "(Intercept)       7.103e+02  1.883e+02   3.771 0.000195 ***\n",
       "Close.L1          9.220e-01  2.087e-02  44.183  < 2e-16 ***\n",
       "Daily_cases       7.308e-04  2.046e-04   3.572 0.000411 ***\n",
       "Cumulative_deaths 5.546e-04  1.835e-04   3.022 0.002719 ** \n",
       "---\n",
       "Signif. codes:  0 '***' 0.001 '**' 0.01 '*' 0.05 '.' 0.1 ' ' 1\n",
       "\n",
       "Residual standard error: 0.6132 on 309 degrees of freedom\n",
       "Multiple R-squared:  0.9862,\tAdjusted R-squared:  0.986 \n",
       "F-statistic:  7341 on 3 and 309 DF,  p-value: < 2.2e-16\n"
      ]
     },
     "metadata": {},
     "output_type": "display_data"
    }
   ],
   "source": [
    "# final OLS model\n",
    "close <- close[-1,]\n",
    "wts <- wts[-1]\n",
    "reg.final <-lm(Close~ Close.L1 + Daily_cases + Cumulative_deaths, data=close, weights = wts)\n",
    "#summary(reg.final)"
   ]
  },
  {
   "cell_type": "markdown",
   "metadata": {},
   "source": [
    "## OLS Cross-Validation"
   ]
  },
  {
   "cell_type": "markdown",
   "metadata": {},
   "source": [
    "- Split 80% for training data and 20% for testing.\n",
    "- After fit the model, we get <b>RMSE is 244.33</b> for linear model."
   ]
  },
  {
   "cell_type": "code",
   "execution_count": 27,
   "metadata": {},
   "outputs": [
    {
     "data": {
      "text/html": [
       "244.33"
      ],
      "text/latex": [
       "244.33"
      ],
      "text/markdown": [
       "244.33"
      ],
      "text/plain": [
       "[1] 244.33"
      ]
     },
     "metadata": {},
     "output_type": "display_data"
    }
   ],
   "source": [
    "# OLS cross-validation\n",
    "set.seed(123)\n",
    "n = length(close$Close)\n",
    "z =sample(n,0.8*n)\n",
    "\n",
    "reg.cv <-lm(Close~ Close.L1 + Daily_cases + Cumulative_deaths, data=close[z,],weights = wts[z])\n",
    "test.mse.rs <- mean( (close$Close[-z] - predict(reg.cv, close[-z,]) )^2)# 52869.23\n",
    "rmse.ols = round(sqrt(test.mse.rs),3)\n",
    "rmse.ols"
   ]
  },
  {
   "cell_type": "markdown",
   "metadata": {},
   "source": [
    "# Ridge"
   ]
  },
  {
   "cell_type": "markdown",
   "metadata": {},
   "source": [
    "- Build Ridge Regression and LASSO to compare with OLS model."
   ]
  },
  {
   "cell_type": "code",
   "execution_count": 34,
   "metadata": {},
   "outputs": [
    {
     "name": "stderr",
     "output_type": "stream",
     "text": [
      "Loaded glmnet 4.1-2\n",
      "\n"
     ]
    }
   ],
   "source": [
    "# Ridge \n",
    "library(glmnet)\n",
    "x = model.matrix(reg.final) \n",
    "y = close$Close"
   ]
  },
  {
   "cell_type": "markdown",
   "metadata": {},
   "source": [
    "- Use 10-Fold to get best lamda: 0.97."
   ]
  },
  {
   "cell_type": "code",
   "execution_count": 35,
   "metadata": {},
   "outputs": [
    {
     "data": {
      "text/html": [
       "0.97"
      ],
      "text/latex": [
       "0.97"
      ],
      "text/markdown": [
       "0.97"
      ],
      "text/plain": [
       "[1] 0.97"
      ]
     },
     "metadata": {},
     "output_type": "display_data"
    },
    {
     "data": {
      "image/png": "[encoded data removed]",
      "text/plain": [
       "plot without title"
      ]
     },
     "metadata": {
      "image/png": {
       "height": 420,
       "width": 420
      }
     },
     "output_type": "display_data"
    }
   ],
   "source": [
    "set.seed(123)\n",
    "ridge.cv = cv.glmnet(x[z,], y[z],alpha =0, lambda = seq(0,100,0.01))\n",
    "ridge.cv$lambda.min\n",
    "plot(ridge.cv)"
   ]
  },
  {
   "cell_type": "markdown",
   "metadata": {},
   "source": [
    "- Use best lamda to fit the model and get model's <b>RMSE is 238.241</b>"
   ]
  },
  {
   "cell_type": "code",
   "execution_count": 36,
   "metadata": {},
   "outputs": [
    {
     "data": {
      "text/html": [
       "238.241"
      ],
      "text/latex": [
       "238.241"
      ],
      "text/markdown": [
       "238.241"
      ],
      "text/plain": [
       "[1] 238.241"
      ]
     },
     "metadata": {},
     "output_type": "display_data"
    }
   ],
   "source": [
    "ridge = glmnet(x[z,],y[z],alpha =0, lambda = ridge.cv$lambda.min)\n",
    "Yhat = predict( ridge, ridge.cv$lambda.min, newx = x[-z,] )\n",
    "ridge.mse = mean((Yhat - y[-z])^2 )\n",
    "ridge.rmse = round(sqrt(ridge.mse),3)\n",
    "ridge.rmse"
   ]
  },
  {
   "cell_type": "markdown",
   "metadata": {},
   "source": [
    "## LASSO"
   ]
  },
  {
   "cell_type": "markdown",
   "metadata": {},
   "source": [
    "- Use 10-Fold to get best lamda: 1.31."
   ]
  },
  {
   "cell_type": "code",
   "execution_count": 37,
   "metadata": {},
   "outputs": [
    {
     "data": {
      "text/html": [
       "1.31"
      ],
      "text/latex": [
       "1.31"
      ],
      "text/markdown": [
       "1.31"
      ],
      "text/plain": [
       "[1] 1.31"
      ]
     },
     "metadata": {},
     "output_type": "display_data"
    },
    {
     "data": {
      "image/png": "[encoded data removed]",
      "text/plain": [
       "plot without title"
      ]
     },
     "metadata": {
      "image/png": {
       "height": 420,
       "width": 420
      }
     },
     "output_type": "display_data"
    }
   ],
   "source": [
    "# LASSO\n",
    "set.seed(123)\n",
    "lasso.cv = cv.glmnet(x[z,], y[z],alpha =1, lambda = seq(0,100,0.01))\n",
    "lasso.cv$lambda.min\n",
    "\n",
    "plot(lasso.cv)"
   ]
  },
  {
   "cell_type": "markdown",
   "metadata": {},
   "source": [
    "- Use best lamda to fit the model and get model's <b>RMSE is 238.238</b>"
   ]
  },
  {
   "cell_type": "code",
   "execution_count": 39,
   "metadata": {},
   "outputs": [
    {
     "data": {
      "text/html": [
       "238.238"
      ],
      "text/latex": [
       "238.238"
      ],
      "text/markdown": [
       "238.238"
      ],
      "text/plain": [
       "[1] 238.238"
      ]
     },
     "metadata": {},
     "output_type": "display_data"
    }
   ],
   "source": [
    "lasso = glmnet(x[z,],y[z],alpha =1, lambda = lasso.cv$lambda.min)\n",
    "Yhat = predict( lasso, lasso.cv$lambda.min, newx = x[-z,] )\n",
    "lasso.mse = mean((Yhat - y[-z])^2 )\n",
    "lasso.rmse = round(sqrt(lasso.mse),3)\n",
    "lasso.rmse"
   ]
  },
  {
   "cell_type": "code",
   "execution_count": 40,
   "metadata": {},
   "outputs": [
    {
     "data": {
      "text/html": [
       "<table class=\"dataframe\">\n",
       "<caption>A matrix: 2 × 3 of type chr</caption>\n",
       "<tbody>\n",
       "\t<tr><td>OLS RMSE</td><td>Ridge RMSE</td><td>Lasso RMSE</td></tr>\n",
       "\t<tr><td>244.33  </td><td>238.241   </td><td>238.238   </td></tr>\n",
       "</tbody>\n",
       "</table>\n"
      ],
      "text/latex": [
       "A matrix: 2 × 3 of type chr\n",
       "\\begin{tabular}{lll}\n",
       "\t OLS RMSE & Ridge RMSE & Lasso RMSE\\\\\n",
       "\t 244.33   & 238.241    & 238.238   \\\\\n",
       "\\end{tabular}\n"
      ],
      "text/markdown": [
       "\n",
       "A matrix: 2 × 3 of type chr\n",
       "\n",
       "| OLS RMSE | Ridge RMSE | Lasso RMSE |\n",
       "| 244.33   | 238.241    | 238.238    |\n",
       "\n"
      ],
      "text/plain": [
       "     [,1]     [,2]       [,3]      \n",
       "[1,] OLS RMSE Ridge RMSE Lasso RMSE\n",
       "[2,] 244.33   238.241    238.238   "
      ]
     },
     "metadata": {},
     "output_type": "display_data"
    }
   ],
   "source": [
    "rbind(c(\"OLS RMSE\", \"Ridge RMSE\", \"Lasso RMSE\"), c(rmse.ols, ridge.rmse,lasso.rmse))"
   ]
  },
  {
   "cell_type": "markdown",
   "metadata": {},
   "source": [
    "# Result"
   ]
  },
  {
   "cell_type": "markdown",
   "metadata": {},
   "source": [
    "- LASSO is the best model with the lowest RMSE.  \n",
    "- When the daily cases increases, the stock price also increases. However, this result was conflict to we thought. Usually, we believed the severe pandemic will bring the big issues to our economic, but in our project is not. One of the reason may be we didn't consider that different industry will have different situation during pandemic. Because those industry need to work in-person might be having big influence. Such as medical, school, or vender...etc. On the other hand, those no need to work in-person's industry perhaps won't have big affect. Therefore, if we want to improve our result to be more precise, we need to collect different industy's stock index then run the model again."
   ]
  },
  {
   "cell_type": "code",
   "execution_count": null,
   "metadata": {},
   "outputs": [],
   "source": []
  }
 ],
 "metadata": {
  "kernelspec": {
   "display_name": "R",
   "language": "R",
   "name": "ir"
  },
  "language_info": {
   "codemirror_mode": "r",
   "file_extension": ".r",
   "mimetype": "text/x-r-source",
   "name": "R",
   "pygments_lexer": "r",
   "version": "4.0.5"
  }
 },
 "nbformat": 4,
 "nbformat_minor": 4
}
